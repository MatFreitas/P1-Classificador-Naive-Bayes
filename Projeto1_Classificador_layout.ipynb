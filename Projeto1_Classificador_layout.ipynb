{
 "cells": [
  {
   "cell_type": "markdown",
   "metadata": {},
   "source": [
    "# Projeto 1 - Ciência dos Dados"
   ]
  },
  {
   "cell_type": "markdown",
   "metadata": {},
   "source": [
    "Nome: Matheus Freitas Sant'Ana\n",
    "\n",
    "Nome: Gabriel Salvator Benatar"
   ]
  },
  {
   "cell_type": "markdown",
   "metadata": {},
   "source": [
    "Atenção: Serão permitidos grupos de três pessoas, mas com uma rubrica mais exigente. Grupos deste tamanho precisarão fazer um questionário de avaliação de trabalho em equipe"
   ]
  },
  {
   "cell_type": "markdown",
   "metadata": {},
   "source": [
    "___\n",
    "Carregando algumas bibliotecas:"
   ]
  },
  {
   "cell_type": "code",
   "execution_count": 735,
   "metadata": {},
   "outputs": [],
   "source": [
    "%matplotlib inline\n",
    "import pandas as pd\n",
    "import matplotlib.pyplot as plt\n",
    "import numpy as np\n",
    "import os\n",
    "import emoji\n",
    "from emoji import UNICODE_EMOJI"
   ]
  },
  {
   "cell_type": "code",
   "execution_count": 736,
   "metadata": {
    "scrolled": false
   },
   "outputs": [
    {
     "name": "stdout",
     "output_type": "stream",
     "text": [
      "Esperamos trabalhar no diretório\n",
      "C:\\Users\\matfs\\Desktop\\Ciência dos Dados\\P2\\P1-Classificador-Naive-Bayes\n"
     ]
    }
   ],
   "source": [
    "print('Esperamos trabalhar no diretório')\n",
    "print(os.getcwd())"
   ]
  },
  {
   "cell_type": "markdown",
   "metadata": {},
   "source": [
    "Carregando a base de dados com os tweets classificados como relevantes e não relevantes:"
   ]
  },
  {
   "cell_type": "code",
   "execution_count": 737,
   "metadata": {},
   "outputs": [],
   "source": [
    "dados = pd.read_excel('Uber.xlsx')\n",
    "dados['Classe'] = dados.Classe.astype('category')"
   ]
  },
  {
   "cell_type": "code",
   "execution_count": 738,
   "metadata": {},
   "outputs": [],
   "source": [
    "dados['Classe'].cat.categories = ['Irrelevante', 'Relevante']"
   ]
  },
  {
   "cell_type": "code",
   "execution_count": 739,
   "metadata": {},
   "outputs": [
    {
     "data": {
      "text/html": [
       "<div>\n",
       "<style scoped>\n",
       "    .dataframe tbody tr th:only-of-type {\n",
       "        vertical-align: middle;\n",
       "    }\n",
       "\n",
       "    .dataframe tbody tr th {\n",
       "        vertical-align: top;\n",
       "    }\n",
       "\n",
       "    .dataframe thead th {\n",
       "        text-align: right;\n",
       "    }\n",
       "</style>\n",
       "<table border=\"1\" class=\"dataframe\">\n",
       "  <thead>\n",
       "    <tr style=\"text-align: right;\">\n",
       "      <th></th>\n",
       "      <th>Treinamento</th>\n",
       "      <th>Classe</th>\n",
       "    </tr>\n",
       "  </thead>\n",
       "  <tbody>\n",
       "    <tr>\n",
       "      <th>290</th>\n",
       "      <td>aí que preguiça desse uber machista/xenofóbico...</td>\n",
       "      <td>Relevante</td>\n",
       "    </tr>\n",
       "    <tr>\n",
       "      <th>291</th>\n",
       "      <td>eu preciso muito parar de andar de uber mds</td>\n",
       "      <td>Irrelevante</td>\n",
       "    </tr>\n",
       "    <tr>\n",
       "      <th>292</th>\n",
       "      <td>@catarinalegal pegar uns uber mais estranhos t...</td>\n",
       "      <td>Irrelevante</td>\n",
       "    </tr>\n",
       "    <tr>\n",
       "      <th>293</th>\n",
       "      <td>@moisesstocco @wilsondenotari @valdecirdelecl1...</td>\n",
       "      <td>Irrelevante</td>\n",
       "    </tr>\n",
       "    <tr>\n",
       "      <th>294</th>\n",
       "      <td>vontade de comer um lanche e nem uma lanchonet...</td>\n",
       "      <td>Irrelevante</td>\n",
       "    </tr>\n",
       "    <tr>\n",
       "      <th>295</th>\n",
       "      <td>a pronto o uber ta tocando uma sofrência braba...</td>\n",
       "      <td>Irrelevante</td>\n",
       "    </tr>\n",
       "    <tr>\n",
       "      <th>296</th>\n",
       "      <td>@_diana_mota_ acho que vais ser o meu uber😂👌</td>\n",
       "      <td>Irrelevante</td>\n",
       "    </tr>\n",
       "    <tr>\n",
       "      <th>297</th>\n",
       "      <td>muito bom esse novo recurso da uber do motoris...</td>\n",
       "      <td>Relevante</td>\n",
       "    </tr>\n",
       "    <tr>\n",
       "      <th>298</th>\n",
       "      <td>mood: conversando em inglês com o uber</td>\n",
       "      <td>Relevante</td>\n",
       "    </tr>\n",
       "    <tr>\n",
       "      <th>299</th>\n",
       "      <td>mo burocracia p eu conseguir sair da escola de...</td>\n",
       "      <td>Irrelevante</td>\n",
       "    </tr>\n",
       "  </tbody>\n",
       "</table>\n",
       "</div>"
      ],
      "text/plain": [
       "                                           Treinamento       Classe\n",
       "290  aí que preguiça desse uber machista/xenofóbico...    Relevante\n",
       "291        eu preciso muito parar de andar de uber mds  Irrelevante\n",
       "292  @catarinalegal pegar uns uber mais estranhos t...  Irrelevante\n",
       "293  @moisesstocco @wilsondenotari @valdecirdelecl1...  Irrelevante\n",
       "294  vontade de comer um lanche e nem uma lanchonet...  Irrelevante\n",
       "295  a pronto o uber ta tocando uma sofrência braba...  Irrelevante\n",
       "296       @_diana_mota_ acho que vais ser o meu uber😂👌  Irrelevante\n",
       "297  muito bom esse novo recurso da uber do motoris...    Relevante\n",
       "298             mood: conversando em inglês com o uber    Relevante\n",
       "299  mo burocracia p eu conseguir sair da escola de...  Irrelevante"
      ]
     },
     "execution_count": 739,
     "metadata": {},
     "output_type": "execute_result"
    }
   ],
   "source": [
    "dados.tail(10)"
   ]
  },
  {
   "cell_type": "code",
   "execution_count": 740,
   "metadata": {},
   "outputs": [
    {
     "data": {
      "text/plain": [
       "Irrelevante    212\n",
       "Relevante       88\n",
       "Name: Classe, dtype: int64"
      ]
     },
     "execution_count": 740,
     "metadata": {},
     "output_type": "execute_result"
    }
   ],
   "source": [
    "dados.Classe.value_counts()"
   ]
  },
  {
   "cell_type": "markdown",
   "metadata": {},
   "source": [
    "Há muito mais tweets irrelevantes do que relevantes. Vamos tentar deixar a quantidade mais ou menos parecida."
   ]
  },
  {
   "cell_type": "code",
   "execution_count": 741,
   "metadata": {},
   "outputs": [],
   "source": [
    "dados_irr = dados.loc[dados.Classe == 'Irrelevante', :]\n",
    "dados_irr = dados_irr.loc[:130, :]"
   ]
  },
  {
   "cell_type": "code",
   "execution_count": 742,
   "metadata": {},
   "outputs": [
    {
     "data": {
      "text/plain": [
       "Irrelevante    88\n",
       "Relevante       0\n",
       "Name: Classe, dtype: int64"
      ]
     },
     "execution_count": 742,
     "metadata": {},
     "output_type": "execute_result"
    }
   ],
   "source": [
    "dados_irr.Classe.value_counts()"
   ]
  },
  {
   "cell_type": "code",
   "execution_count": 743,
   "metadata": {},
   "outputs": [],
   "source": [
    "dados_r = dados.loc[dados.Classe == 'Relevante', :]"
   ]
  },
  {
   "cell_type": "code",
   "execution_count": 744,
   "metadata": {},
   "outputs": [
    {
     "data": {
      "text/plain": [
       "Relevante      88\n",
       "Irrelevante     0\n",
       "Name: Classe, dtype: int64"
      ]
     },
     "execution_count": 744,
     "metadata": {},
     "output_type": "execute_result"
    }
   ],
   "source": [
    "dados_r.Classe.value_counts()"
   ]
  },
  {
   "cell_type": "markdown",
   "metadata": {},
   "source": [
    "___\n",
    "## Classificador automático de sentimento\n"
   ]
  },
  {
   "cell_type": "markdown",
   "metadata": {},
   "source": [
    "Faça aqui uma descrição do seu produto e o que considerou como relevante ou não relevante na classificação dos tweets.\n",
    "\n",
    "ESCREVA AQUI..."
   ]
  },
  {
   "cell_type": "markdown",
   "metadata": {},
   "source": [
    "___\n",
    "### Montando um Classificador Naive-Bayes\n",
    "\n",
    "Considerando apenas as mensagens da planilha Treinamento, ensine  seu classificador."
   ]
  },
  {
   "cell_type": "markdown",
   "metadata": {},
   "source": [
    "Função que limpa a pontuação e outros símbolos irrelevantes para a classificação dos _tweets_."
   ]
  },
  {
   "cell_type": "code",
   "execution_count": 745,
   "metadata": {},
   "outputs": [],
   "source": [
    "import re \n",
    "\n",
    "\n",
    "def cleanup(text):\n",
    "    \"\"\"\n",
    "        Função de limpeza muito simples que troca alguns sinais básicos por espaços\n",
    "    \"\"\"\n",
    "    #import string\n",
    "    punctuation = '[!-.:?;@_]' # Note que os sinais [] são delimitadores de um conjunto.\n",
    "    pattern = re.compile(punctuation)\n",
    "    text_subbed = re.sub(pattern, ' ', text)\n",
    "    return text_subbed\n",
    "    "
   ]
  },
  {
   "cell_type": "markdown",
   "metadata": {},
   "source": [
    "Limpando os _tweets_ do _DataFrame_"
   ]
  },
  {
   "cell_type": "code",
   "execution_count": 746,
   "metadata": {},
   "outputs": [
    {
     "name": "stderr",
     "output_type": "stream",
     "text": [
      "C:\\Users\\matfs\\Downloads\\Anaconda\\lib\\site-packages\\ipykernel_launcher.py:2: SettingWithCopyWarning: \n",
      "A value is trying to be set on a copy of a slice from a DataFrame\n",
      "\n",
      "See the caveats in the documentation: http://pandas.pydata.org/pandas-docs/stable/indexing.html#indexing-view-versus-copy\n",
      "  \n"
     ]
    }
   ],
   "source": [
    "for i in range(len(dados['Treinamento'])):\n",
    "    dados['Treinamento'][i] = cleanup(dados['Treinamento'][i].lower())"
   ]
  },
  {
   "cell_type": "code",
   "execution_count": 747,
   "metadata": {},
   "outputs": [
    {
     "data": {
      "text/html": [
       "<div>\n",
       "<style scoped>\n",
       "    .dataframe tbody tr th:only-of-type {\n",
       "        vertical-align: middle;\n",
       "    }\n",
       "\n",
       "    .dataframe tbody tr th {\n",
       "        vertical-align: top;\n",
       "    }\n",
       "\n",
       "    .dataframe thead th {\n",
       "        text-align: right;\n",
       "    }\n",
       "</style>\n",
       "<table border=\"1\" class=\"dataframe\">\n",
       "  <thead>\n",
       "    <tr style=\"text-align: right;\">\n",
       "      <th></th>\n",
       "      <th>Treinamento</th>\n",
       "      <th>Classe</th>\n",
       "    </tr>\n",
       "  </thead>\n",
       "  <tbody>\n",
       "    <tr>\n",
       "      <th>0</th>\n",
       "      <td>pior coisa é ouvir de gente privilegiada que a...</td>\n",
       "      <td>Irrelevante</td>\n",
       "    </tr>\n",
       "    <tr>\n",
       "      <th>1</th>\n",
       "      <td>eu morrendo de calor e o uber geladinho tudo q...</td>\n",
       "      <td>Irrelevante</td>\n",
       "    </tr>\n",
       "    <tr>\n",
       "      <th>2</th>\n",
       "      <td>to lembrando aqui do dia em que a mairine e a ...</td>\n",
       "      <td>Irrelevante</td>\n",
       "    </tr>\n",
       "    <tr>\n",
       "      <th>3</th>\n",
       "      <td>lucasp711 to cortando o cabelo  se ainda tive...</td>\n",
       "      <td>Irrelevante</td>\n",
       "    </tr>\n",
       "    <tr>\n",
       "      <th>4</th>\n",
       "      <td>rt  jungsbloomie  acabei o dinheiro da semana ...</td>\n",
       "      <td>Irrelevante</td>\n",
       "    </tr>\n",
       "  </tbody>\n",
       "</table>\n",
       "</div>"
      ],
      "text/plain": [
       "                                         Treinamento       Classe\n",
       "0  pior coisa é ouvir de gente privilegiada que a...  Irrelevante\n",
       "1  eu morrendo de calor e o uber geladinho tudo q...  Irrelevante\n",
       "2  to lembrando aqui do dia em que a mairine e a ...  Irrelevante\n",
       "3   lucasp711 to cortando o cabelo  se ainda tive...  Irrelevante\n",
       "4  rt  jungsbloomie  acabei o dinheiro da semana ...  Irrelevante"
      ]
     },
     "execution_count": 747,
     "metadata": {},
     "output_type": "execute_result"
    }
   ],
   "source": [
    "dados.head()"
   ]
  },
  {
   "cell_type": "markdown",
   "metadata": {},
   "source": [
    "Criando os _DataFrames_ das categorias de classificação."
   ]
  },
  {
   "cell_type": "code",
   "execution_count": 748,
   "metadata": {},
   "outputs": [],
   "source": [
    "dados_irr = dados.loc[dados.Classe == 'Irrelevante', :]\n",
    "dados_irr = dados_irr.loc[:130, :]"
   ]
  },
  {
   "cell_type": "code",
   "execution_count": 749,
   "metadata": {},
   "outputs": [],
   "source": [
    "dados_r = dados.loc[dados.Classe == 'Relevante', :]"
   ]
  },
  {
   "cell_type": "markdown",
   "metadata": {},
   "source": [
    "Aqui corrigimos o index de cada _DataFrame_ (eles tinham herdado o index do _DataFrame_ total)."
   ]
  },
  {
   "cell_type": "code",
   "execution_count": 750,
   "metadata": {},
   "outputs": [],
   "source": [
    "for i in range(len(dados_r.index.values)):\n",
    "    dados_r.index.values[i] = i "
   ]
  },
  {
   "cell_type": "code",
   "execution_count": 751,
   "metadata": {},
   "outputs": [],
   "source": [
    "for i in range(len(dados_irr.index.values)):\n",
    "    dados_irr.index.values[i] = i "
   ]
  },
  {
   "cell_type": "markdown",
   "metadata": {},
   "source": [
    "Criando uma lista com as palavras de cada _tweet_ do _DataFrame_ dos irrelevantes."
   ]
  },
  {
   "cell_type": "code",
   "execution_count": 752,
   "metadata": {},
   "outputs": [
    {
     "data": {
      "text/plain": [
       "[['pior',\n",
       "  'coisa',\n",
       "  'é',\n",
       "  'ouvir',\n",
       "  'de',\n",
       "  'gente',\n",
       "  'privilegiada',\n",
       "  'que',\n",
       "  'anda',\n",
       "  'de',\n",
       "  'carro',\n",
       "  'todo',\n",
       "  'dia',\n",
       "  'seja',\n",
       "  'uber',\n",
       "  'ou',\n",
       "  'carro',\n",
       "  'do',\n",
       "  'pai',\n",
       "  'que',\n",
       "  'vai',\n",
       "  'ter',\n",
       "  'que',\n",
       "  'andar',\n",
       "  'de',\n",
       "  'ônibus',\n",
       "  'realmente',\n",
       "  'essas',\n",
       "  'pessoas',\n",
       "  'precisam',\n",
       "  'amadurecer'],\n",
       " ['eu',\n",
       "  'morrendo',\n",
       "  'de',\n",
       "  'calor',\n",
       "  'e',\n",
       "  'o',\n",
       "  'uber',\n",
       "  'geladinho',\n",
       "  'tudo',\n",
       "  'q',\n",
       "  'eu',\n",
       "  'queria']]"
      ]
     },
     "execution_count": 752,
     "metadata": {},
     "output_type": "execute_result"
    }
   ],
   "source": [
    "todas_palavras_irrelevante = []\n",
    "for i in range(len(dados_irr.Treinamento)):\n",
    "    todas_palavras_irrelevante.append(dados_irr['Treinamento'][i].split())\n",
    "todas_palavras_irrelevante[:2]"
   ]
  },
  {
   "cell_type": "markdown",
   "metadata": {},
   "source": [
    "Essa lista é composta de várias outras listas, em que cada uma delas corresponde às palavras de certo _tweet_. Vamos fazer com que a lista de palavras seja apenas UMA grande lista composta apenas pelas _strings_."
   ]
  },
  {
   "cell_type": "code",
   "execution_count": 753,
   "metadata": {},
   "outputs": [
    {
     "data": {
      "text/plain": [
       "['pior',\n",
       " 'coisa',\n",
       " 'é',\n",
       " 'ouvir',\n",
       " 'de',\n",
       " 'gente',\n",
       " 'privilegiada',\n",
       " 'que',\n",
       " 'anda',\n",
       " 'de',\n",
       " 'carro',\n",
       " 'todo',\n",
       " 'dia',\n",
       " 'seja',\n",
       " 'uber',\n",
       " 'ou',\n",
       " 'carro',\n",
       " 'do',\n",
       " 'pai',\n",
       " 'que',\n",
       " 'vai',\n",
       " 'ter',\n",
       " 'que',\n",
       " 'andar',\n",
       " 'de',\n",
       " 'ônibus',\n",
       " 'realmente',\n",
       " 'essas',\n",
       " 'pessoas',\n",
       " 'precisam',\n",
       " 'amadurecer',\n",
       " 'eu',\n",
       " 'morrendo',\n",
       " 'de',\n",
       " 'calor']"
      ]
     },
     "execution_count": 753,
     "metadata": {},
     "output_type": "execute_result"
    }
   ],
   "source": [
    "todas_palavras_irr = []\n",
    "for i in range(len(todas_palavras_irrelevante)):\n",
    "    for j in range(len(todas_palavras_irrelevante[i])):\n",
    "        todas_palavras_irr.append(todas_palavras_irrelevante[i][j])\n",
    "todas_palavras_irr[:35]"
   ]
  },
  {
   "cell_type": "markdown",
   "metadata": {},
   "source": [
    "Vamos tornar essa lista em um _DataFrame_."
   ]
  },
  {
   "cell_type": "code",
   "execution_count": 754,
   "metadata": {},
   "outputs": [
    {
     "data": {
      "text/plain": [
       "0     pior\n",
       "1    coisa\n",
       "2        é\n",
       "3    ouvir\n",
       "4       de\n",
       "dtype: object"
      ]
     },
     "execution_count": 754,
     "metadata": {},
     "output_type": "execute_result"
    }
   ],
   "source": [
    "serie_Irr = pd.Series(todas_palavras_irr)\n",
    "serie_Irr.head()"
   ]
  },
  {
   "cell_type": "markdown",
   "metadata": {},
   "source": [
    "Todo o processo feito acima é repetido para o _DataFrame_ dos _tweets_ relevantes."
   ]
  },
  {
   "cell_type": "code",
   "execution_count": 755,
   "metadata": {},
   "outputs": [],
   "source": [
    "todas_palavras_relevante = []\n",
    "for i in range(len(dados_r.Treinamento)):\n",
    "    todas_palavras_relevante.append(dados_r['Treinamento'][i].split())"
   ]
  },
  {
   "cell_type": "code",
   "execution_count": 756,
   "metadata": {},
   "outputs": [
    {
     "data": {
      "text/plain": [
       "['rt', 'leandra', 'bdz', 'meninas', 'um']"
      ]
     },
     "execution_count": 756,
     "metadata": {},
     "output_type": "execute_result"
    }
   ],
   "source": [
    "todas_palavras_r = []\n",
    "for i in range(len(todas_palavras_relevante)):\n",
    "    for j in range(len(todas_palavras_relevante[i])):\n",
    "        todas_palavras_r.append(todas_palavras_relevante[i][j])\n",
    "todas_palavras_r[:5]"
   ]
  },
  {
   "cell_type": "code",
   "execution_count": 757,
   "metadata": {},
   "outputs": [
    {
     "data": {
      "text/plain": [
       "0         rt\n",
       "1    leandra\n",
       "2        bdz\n",
       "3    meninas\n",
       "4         um\n",
       "dtype: object"
      ]
     },
     "execution_count": 757,
     "metadata": {},
     "output_type": "execute_result"
    }
   ],
   "source": [
    "serie_r = pd.Series(todas_palavras_r)\n",
    "serie_r.head()"
   ]
  },
  {
   "cell_type": "markdown",
   "metadata": {},
   "source": [
    "Fazendo as tabelas com as contagens absolutas."
   ]
  },
  {
   "cell_type": "code",
   "execution_count": 758,
   "metadata": {},
   "outputs": [
    {
     "data": {
      "text/plain": [
       "uber    89\n",
       "de      61\n",
       "e       51\n",
       "que     42\n",
       "o       41\n",
       "dtype: int64"
      ]
     },
     "execution_count": 758,
     "metadata": {},
     "output_type": "execute_result"
    }
   ],
   "source": [
    "tabela_r = serie_r.value_counts()\n",
    "tabela_r.head()"
   ]
  },
  {
   "cell_type": "code",
   "execution_count": 759,
   "metadata": {},
   "outputs": [
    {
     "data": {
      "text/plain": [
       "uber    89\n",
       "o       52\n",
       "de      44\n",
       "e       42\n",
       "que     36\n",
       "dtype: int64"
      ]
     },
     "execution_count": 759,
     "metadata": {},
     "output_type": "execute_result"
    }
   ],
   "source": [
    "tabela_irr = serie_Irr.value_counts()\n",
    "tabela_irr.head()"
   ]
  },
  {
   "cell_type": "markdown",
   "metadata": {},
   "source": [
    "Fazendo as tabelas com as contagens relativas"
   ]
  },
  {
   "cell_type": "code",
   "execution_count": 760,
   "metadata": {},
   "outputs": [
    {
     "data": {
      "text/plain": [
       "uber    4.98\n",
       "de      3.42\n",
       "e       2.86\n",
       "que     2.35\n",
       "o       2.30\n",
       "dtype: float64"
      ]
     },
     "execution_count": 760,
     "metadata": {},
     "output_type": "execute_result"
    }
   ],
   "source": [
    "tabela_relativa_r = (serie_r.value_counts(True)*100).round(2)\n",
    "tabela_relativa_r.head()"
   ]
  },
  {
   "cell_type": "code",
   "execution_count": 761,
   "metadata": {},
   "outputs": [
    {
     "data": {
      "text/plain": [
       "uber    5.15\n",
       "o       3.01\n",
       "de      2.55\n",
       "e       2.43\n",
       "que     2.08\n",
       "dtype: float64"
      ]
     },
     "execution_count": 761,
     "metadata": {},
     "output_type": "execute_result"
    }
   ],
   "source": [
    "tabela_relativa_irr = (serie_Irr.value_counts(True)*100).round(2)\n",
    "tabela_relativa_irr.head()"
   ]
  },
  {
   "cell_type": "markdown",
   "metadata": {},
   "source": [
    "Fazendo todo o processo acima só que para o _DataFrame_ total."
   ]
  },
  {
   "cell_type": "code",
   "execution_count": 762,
   "metadata": {},
   "outputs": [],
   "source": [
    "todas_palavras_v1 = []\n",
    "for i in range(len(dados.index.values)):\n",
    "    todas_palavras_v1.append(dados.Treinamento[i].split())"
   ]
  },
  {
   "cell_type": "code",
   "execution_count": 763,
   "metadata": {},
   "outputs": [
    {
     "data": {
      "text/plain": [
       "['pior', 'coisa', 'é', 'ouvir', 'de']"
      ]
     },
     "execution_count": 763,
     "metadata": {},
     "output_type": "execute_result"
    }
   ],
   "source": [
    "todas_palavras = []\n",
    "for i in range(len(todas_palavras_v1)):\n",
    "    for j in range(len(todas_palavras_v1[i])):\n",
    "        todas_palavras.append(todas_palavras_v1[i][j])\n",
    "todas_palavras[:5]"
   ]
  },
  {
   "cell_type": "code",
   "execution_count": 764,
   "metadata": {},
   "outputs": [
    {
     "data": {
      "text/plain": [
       "0     pior\n",
       "1    coisa\n",
       "2        é\n",
       "3    ouvir\n",
       "4       de\n",
       "dtype: object"
      ]
     },
     "execution_count": 764,
     "metadata": {},
     "output_type": "execute_result"
    }
   ],
   "source": [
    "serie_todas = pd.Series(todas_palavras)\n",
    "serie_todas.head()"
   ]
  },
  {
   "cell_type": "code",
   "execution_count": 765,
   "metadata": {},
   "outputs": [
    {
     "data": {
      "text/plain": [
       "uber    295\n",
       "de      166\n",
       "o       159\n",
       "e       145\n",
       "que     107\n",
       "dtype: int64"
      ]
     },
     "execution_count": 765,
     "metadata": {},
     "output_type": "execute_result"
    }
   ],
   "source": [
    "tabela_todas = serie_todas.value_counts()\n",
    "tabela_todas.head()"
   ]
  },
  {
   "cell_type": "code",
   "execution_count": 766,
   "metadata": {},
   "outputs": [
    {
     "data": {
      "text/plain": [
       "uber    5.11\n",
       "de      2.87\n",
       "o       2.75\n",
       "e       2.51\n",
       "que     1.85\n",
       "dtype: float64"
      ]
     },
     "execution_count": 766,
     "metadata": {},
     "output_type": "execute_result"
    }
   ],
   "source": [
    "tabela_relativa_todas = (serie_todas.value_counts(True)*100).round(2)\n",
    "tabela_relativa_todas.head()"
   ]
  },
  {
   "cell_type": "markdown",
   "metadata": {},
   "source": [
    "Função do classificador Naive Bayes"
   ]
  },
  {
   "cell_type": "code",
   "execution_count": 767,
   "metadata": {},
   "outputs": [],
   "source": [
    "def naive_bayes(frase, tabela_relativa_r, tabela_relativa_irr):\n",
    "    \n",
    "    #Filtrando a frase tirando pontuação e símbolos irrelevantes\n",
    "    frase = cleanup(frase.lower())\n",
    "    \n",
    "    #Separando as palavras da frase e colocando-as em uma lista.\n",
    "    lista_palavras = frase.split()\n",
    "    \n",
    "    #Quando há o uso de emojis e eles estão 'colados', separá-los para que sejam\n",
    "    #considerados palavras diferentes.\n",
    "    k = 0\n",
    "    for m in range(len(lista_palavras)):\n",
    "        for i in lista_palavras[m]:\n",
    "            if i in UNICODE_EMOJI:\n",
    "                k += 1\n",
    "        if k == len(lista_palavras[m]):\n",
    "            sub = \",\".join(lista_palavras[m])\n",
    "            a = sub.split(\",\")\n",
    "            lista_palavras.remove(lista_palavras[m])\n",
    "            for s in range(len(a)):\n",
    "                lista_palavras.append(a[s])\n",
    "        k = 0\n",
    "        \n",
    "    #Contando o total de palavras em cada categoria com as contagens absolutas.\n",
    "    totalR = tabela_r.value_counts().sum()\n",
    "    totalIrr = tabela_irr.value_counts().sum()\n",
    "    total = totalR + totalIrr\n",
    "    \n",
    "    #P(R)\n",
    "    probR = totalR/total\n",
    "    \n",
    "    #P(Rc)\n",
    "    probIrr=totalIrr/total\n",
    "    \n",
    "    #P(frase|R)\n",
    "    probFraseDadoR = 100\n",
    "    for i in lista_palavras:\n",
    "        if i in tabela_relativa_r:\n",
    "            probFraseDadoR *= tabela_relativa_r['{}'.format(i)]\n",
    "        else:\n",
    "            probFraseDadoR *= 0.01\n",
    "    \n",
    "    #P(frase|Rc)\n",
    "    probFraseDadoIrr = 100\n",
    "    for i in lista_palavras:\n",
    "        if i in tabela_relativa_irr:\n",
    "             probFraseDadoIrr *= tabela_relativa_irr['{}'.format(i)]\n",
    "        else:\n",
    "            probFraseDadoIrr *= 0.01\n",
    "    \n",
    "    #P(R|frase)\n",
    "    probRDadoFrase = probFraseDadoR*probR\n",
    "    \n",
    "    #P(Rc|frase)\n",
    "    probIrrDadoFrase = probFraseDadoIrr*probIrr\n",
    "    \n",
    "    if probRDadoFrase > probIrrDadoFrase:\n",
    "        return('Relevante, {}'.format(probRDadoFrase))\n",
    "    else:\n",
    "        return('Irrelevante, {}'.format(probIrrDadoFrase))\n",
    "    "
   ]
  },
  {
   "cell_type": "markdown",
   "metadata": {},
   "source": [
    "___\n",
    "### Verificando a performance do Classificador\n",
    "\n",
    "Agora você deve testar o seu classificador com a base de Testes."
   ]
  },
  {
   "cell_type": "code",
   "execution_count": 768,
   "metadata": {},
   "outputs": [
    {
     "data": {
      "text/plain": [
       "'Relevante, 3.721395848035707e-10'"
      ]
     },
     "execution_count": 768,
     "metadata": {},
     "output_type": "execute_result"
    }
   ],
   "source": [
    "naive_bayes('meu deus o uber que eu peguei hoje era filho de italiano 😭😷😷😷', tabela_relativa_r, tabela_relativa_irr)"
   ]
  },
  {
   "cell_type": "markdown",
   "metadata": {},
   "source": [
    "___\n",
    "### Concluindo"
   ]
  },
  {
   "cell_type": "code",
   "execution_count": null,
   "metadata": {},
   "outputs": [],
   "source": []
  },
  {
   "cell_type": "code",
   "execution_count": null,
   "metadata": {},
   "outputs": [],
   "source": []
  },
  {
   "cell_type": "markdown",
   "metadata": {},
   "source": [
    "___\n",
    "## Aperfeiçoamento:\n",
    "\n",
    "Os trabalhos vão evoluir em conceito dependendo da quantidade de itens avançados:\n",
    "\n",
    "* Limpar: \\n, :, \", ', (, ), etc SEM remover emojis\n",
    "* Corrigir separação de espaços entre palavras e emojis ou entre emojis e emojis\n",
    "* Propor outras limpezas e transformações que não afetem a qualidade da informação ou classificação\n",
    "* Criar categorias intermediárias de relevância baseadas na probabilidade: ex.: muito relevante, relevante, neutro, irrelevante, muito irrelevante (3 categorias: C, mais categorias conta para B)\n",
    "* Explicar por que não posso usar o próprio classificador para gerar mais amostras de treinamento\n",
    "* Propor diferentes cenários para Naïve Bayes fora do contexto do projeto\n",
    "* Sugerir e explicar melhorias reais com indicações concretas de como implementar (indicar como fazer e indicar material de pesquisa)\n",
    "* Montar um dashboard que periodicamente realiza análise de sentimento e visualiza estes dados"
   ]
  },
  {
   "cell_type": "markdown",
   "metadata": {},
   "source": [
    "___\n",
    "## Referências"
   ]
  },
  {
   "cell_type": "markdown",
   "metadata": {},
   "source": [
    "[Naive Bayes and Text Classification](https://arxiv.org/pdf/1410.5329.pdf)  **Mais completo**\n",
    "\n",
    "[A practical explanation of a Naive Bayes Classifier](https://monkeylearn.com/blog/practical-explanation-naive-bayes-classifier/) **Mais simples**"
   ]
  }
 ],
 "metadata": {
  "kernelspec": {
   "display_name": "Python 3",
   "language": "python",
   "name": "python3"
  },
  "language_info": {
   "codemirror_mode": {
    "name": "ipython",
    "version": 3
   },
   "file_extension": ".py",
   "mimetype": "text/x-python",
   "name": "python",
   "nbconvert_exporter": "python",
   "pygments_lexer": "ipython3",
   "version": "3.7.1"
  }
 },
 "nbformat": 4,
 "nbformat_minor": 4
}
