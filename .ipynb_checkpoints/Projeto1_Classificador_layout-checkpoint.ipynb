{
 "cells": [
  {
   "cell_type": "markdown",
   "metadata": {},
   "source": [
    "# Projeto 1 - Ciência dos Dados"
   ]
  },
  {
   "cell_type": "markdown",
   "metadata": {},
   "source": [
    "Nome: Matheus Freitas Sant'Ana\n",
    "\n",
    "Nome: Gabriel Salvator Benatar"
   ]
  },
  {
   "cell_type": "markdown",
   "metadata": {},
   "source": [
    "Atenção: Serão permitidos grupos de três pessoas, mas com uma rubrica mais exigente. Grupos deste tamanho precisarão fazer um questionário de avaliação de trabalho em equipe"
   ]
  },
  {
   "cell_type": "markdown",
   "metadata": {},
   "source": [
    "___\n",
    "Carregando algumas bibliotecas:"
   ]
  },
  {
   "cell_type": "code",
   "execution_count": 241,
   "metadata": {},
   "outputs": [],
   "source": [
    "%matplotlib inline\n",
    "import pandas as pd\n",
    "import matplotlib.pyplot as plt\n",
    "import numpy as np\n",
    "import os"
   ]
  },
  {
   "cell_type": "code",
   "execution_count": 242,
   "metadata": {
    "scrolled": false
   },
   "outputs": [
    {
     "name": "stdout",
     "output_type": "stream",
     "text": [
      "Esperamos trabalhar no diretório\n",
      "C:\\Users\\matfs\\Desktop\\Ciência dos Dados\\P2\\P1-Classificador-Naive-Bayes\n"
     ]
    }
   ],
   "source": [
    "print('Esperamos trabalhar no diretório')\n",
    "print(os.getcwd())"
   ]
  },
  {
   "cell_type": "markdown",
   "metadata": {},
   "source": [
    "Carregando a base de dados com os tweets classificados como relevantes e não relevantes:"
   ]
  },
  {
   "cell_type": "code",
   "execution_count": 243,
   "metadata": {},
   "outputs": [],
   "source": [
    "dados = pd.read_excel('Uber.xlsx')\n",
    "dados['Classe'] = dados.Classe.astype('category')"
   ]
  },
  {
   "cell_type": "code",
   "execution_count": 244,
   "metadata": {},
   "outputs": [],
   "source": [
    "dados['Classe'].cat.categories = ['Irrelevante', 'Relevante']"
   ]
  },
  {
   "cell_type": "code",
   "execution_count": 245,
   "metadata": {},
   "outputs": [
    {
     "data": {
      "text/html": [
       "<div>\n",
       "<style scoped>\n",
       "    .dataframe tbody tr th:only-of-type {\n",
       "        vertical-align: middle;\n",
       "    }\n",
       "\n",
       "    .dataframe tbody tr th {\n",
       "        vertical-align: top;\n",
       "    }\n",
       "\n",
       "    .dataframe thead th {\n",
       "        text-align: right;\n",
       "    }\n",
       "</style>\n",
       "<table border=\"1\" class=\"dataframe\">\n",
       "  <thead>\n",
       "    <tr style=\"text-align: right;\">\n",
       "      <th></th>\n",
       "      <th>Treinamento</th>\n",
       "      <th>Classe</th>\n",
       "    </tr>\n",
       "  </thead>\n",
       "  <tbody>\n",
       "    <tr>\n",
       "      <th>290</th>\n",
       "      <td>aí que preguiça desse uber machista/xenofóbico...</td>\n",
       "      <td>Relevante</td>\n",
       "    </tr>\n",
       "    <tr>\n",
       "      <th>291</th>\n",
       "      <td>eu preciso muito parar de andar de uber mds</td>\n",
       "      <td>Irrelevante</td>\n",
       "    </tr>\n",
       "    <tr>\n",
       "      <th>292</th>\n",
       "      <td>@catarinalegal pegar uns uber mais estranhos t...</td>\n",
       "      <td>Irrelevante</td>\n",
       "    </tr>\n",
       "    <tr>\n",
       "      <th>293</th>\n",
       "      <td>@moisesstocco @wilsondenotari @valdecirdelecl1...</td>\n",
       "      <td>Irrelevante</td>\n",
       "    </tr>\n",
       "    <tr>\n",
       "      <th>294</th>\n",
       "      <td>vontade de comer um lanche e nem uma lanchonet...</td>\n",
       "      <td>Irrelevante</td>\n",
       "    </tr>\n",
       "    <tr>\n",
       "      <th>295</th>\n",
       "      <td>a pronto o uber ta tocando uma sofrência braba...</td>\n",
       "      <td>Irrelevante</td>\n",
       "    </tr>\n",
       "    <tr>\n",
       "      <th>296</th>\n",
       "      <td>@_diana_mota_ acho que vais ser o meu uber😂👌</td>\n",
       "      <td>Irrelevante</td>\n",
       "    </tr>\n",
       "    <tr>\n",
       "      <th>297</th>\n",
       "      <td>muito bom esse novo recurso da uber do motoris...</td>\n",
       "      <td>Relevante</td>\n",
       "    </tr>\n",
       "    <tr>\n",
       "      <th>298</th>\n",
       "      <td>mood: conversando em inglês com o uber</td>\n",
       "      <td>Relevante</td>\n",
       "    </tr>\n",
       "    <tr>\n",
       "      <th>299</th>\n",
       "      <td>mo burocracia p eu conseguir sair da escola de...</td>\n",
       "      <td>Irrelevante</td>\n",
       "    </tr>\n",
       "  </tbody>\n",
       "</table>\n",
       "</div>"
      ],
      "text/plain": [
       "                                           Treinamento       Classe\n",
       "290  aí que preguiça desse uber machista/xenofóbico...    Relevante\n",
       "291        eu preciso muito parar de andar de uber mds  Irrelevante\n",
       "292  @catarinalegal pegar uns uber mais estranhos t...  Irrelevante\n",
       "293  @moisesstocco @wilsondenotari @valdecirdelecl1...  Irrelevante\n",
       "294  vontade de comer um lanche e nem uma lanchonet...  Irrelevante\n",
       "295  a pronto o uber ta tocando uma sofrência braba...  Irrelevante\n",
       "296       @_diana_mota_ acho que vais ser o meu uber😂👌  Irrelevante\n",
       "297  muito bom esse novo recurso da uber do motoris...    Relevante\n",
       "298             mood: conversando em inglês com o uber    Relevante\n",
       "299  mo burocracia p eu conseguir sair da escola de...  Irrelevante"
      ]
     },
     "execution_count": 245,
     "metadata": {},
     "output_type": "execute_result"
    }
   ],
   "source": [
    "dados.tail(10)"
   ]
  },
  {
   "cell_type": "code",
   "execution_count": 246,
   "metadata": {},
   "outputs": [
    {
     "data": {
      "text/plain": [
       "Irrelevante    212\n",
       "Relevante       88\n",
       "Name: Classe, dtype: int64"
      ]
     },
     "execution_count": 246,
     "metadata": {},
     "output_type": "execute_result"
    }
   ],
   "source": [
    "dados.Classe.value_counts()"
   ]
  },
  {
   "cell_type": "markdown",
   "metadata": {},
   "source": [
    "Há muito mais tweets irrelevantes do que relevantes. Vamos tentar deixar a quantidade mais ou menos parecida."
   ]
  },
  {
   "cell_type": "code",
   "execution_count": 247,
   "metadata": {},
   "outputs": [],
   "source": [
    "dados_irr = dados.loc[dados.Classe == 'Irrelevante', :]\n",
    "dados_irr = dados_irr.loc[:130, :]"
   ]
  },
  {
   "cell_type": "code",
   "execution_count": 248,
   "metadata": {},
   "outputs": [
    {
     "data": {
      "text/plain": [
       "Irrelevante    88\n",
       "Relevante       0\n",
       "Name: Classe, dtype: int64"
      ]
     },
     "execution_count": 248,
     "metadata": {},
     "output_type": "execute_result"
    }
   ],
   "source": [
    "dados_irr.Classe.value_counts()"
   ]
  },
  {
   "cell_type": "code",
   "execution_count": 249,
   "metadata": {},
   "outputs": [],
   "source": [
    "dados_r = dados.loc[dados.Classe == 'Relevante', :]"
   ]
  },
  {
   "cell_type": "code",
   "execution_count": 250,
   "metadata": {},
   "outputs": [
    {
     "data": {
      "text/plain": [
       "Relevante      88\n",
       "Irrelevante     0\n",
       "Name: Classe, dtype: int64"
      ]
     },
     "execution_count": 250,
     "metadata": {},
     "output_type": "execute_result"
    }
   ],
   "source": [
    "dados_r.Classe.value_counts()"
   ]
  },
  {
   "cell_type": "markdown",
   "metadata": {},
   "source": [
    "___\n",
    "## Classificador automático de sentimento\n"
   ]
  },
  {
   "cell_type": "markdown",
   "metadata": {},
   "source": [
    "Faça aqui uma descrição do seu produto e o que considerou como relevante ou não relevante na classificação dos tweets.\n",
    "\n",
    "ESCREVA AQUI..."
   ]
  },
  {
   "cell_type": "markdown",
   "metadata": {},
   "source": [
    "___\n",
    "### Montando um Classificador Naive-Bayes\n",
    "\n",
    "Considerando apenas as mensagens da planilha Treinamento, ensine  seu classificador."
   ]
  },
  {
   "cell_type": "code",
   "execution_count": 251,
   "metadata": {},
   "outputs": [],
   "source": [
    "import re \n",
    "\n",
    "\n",
    "def cleanup(text):\n",
    "    \"\"\"\n",
    "        Função de limpeza muito simples que troca alguns sinais básicos por espaços\n",
    "    \"\"\"\n",
    "    #import string\n",
    "    punctuation = '[!-.:?;@]' # Note que os sinais [] são delimitadores de um conjunto.\n",
    "    pattern = re.compile(punctuation)\n",
    "    text_subbed = re.sub(pattern, ' ', text)\n",
    "    return text_subbed\n",
    "    "
   ]
  },
  {
   "cell_type": "code",
   "execution_count": 252,
   "metadata": {},
   "outputs": [
    {
     "name": "stderr",
     "output_type": "stream",
     "text": [
      "C:\\Users\\matfs\\Downloads\\Anaconda\\lib\\site-packages\\ipykernel_launcher.py:2: SettingWithCopyWarning: \n",
      "A value is trying to be set on a copy of a slice from a DataFrame\n",
      "\n",
      "See the caveats in the documentation: http://pandas.pydata.org/pandas-docs/stable/indexing.html#indexing-view-versus-copy\n",
      "  \n"
     ]
    }
   ],
   "source": [
    "for i in range(len(dados['Treinamento'])):\n",
    "    dados['Treinamento'][i] = cleanup(dados['Treinamento'][i].lower())"
   ]
  },
  {
   "cell_type": "code",
   "execution_count": 368,
   "metadata": {},
   "outputs": [
    {
     "data": {
      "text/html": [
       "<div>\n",
       "<style scoped>\n",
       "    .dataframe tbody tr th:only-of-type {\n",
       "        vertical-align: middle;\n",
       "    }\n",
       "\n",
       "    .dataframe tbody tr th {\n",
       "        vertical-align: top;\n",
       "    }\n",
       "\n",
       "    .dataframe thead th {\n",
       "        text-align: right;\n",
       "    }\n",
       "</style>\n",
       "<table border=\"1\" class=\"dataframe\">\n",
       "  <thead>\n",
       "    <tr style=\"text-align: right;\">\n",
       "      <th></th>\n",
       "      <th>Treinamento</th>\n",
       "      <th>Classe</th>\n",
       "    </tr>\n",
       "  </thead>\n",
       "  <tbody>\n",
       "    <tr>\n",
       "      <th>0</th>\n",
       "      <td>pior coisa é ouvir de gente privilegiada que a...</td>\n",
       "      <td>Irrelevante</td>\n",
       "    </tr>\n",
       "    <tr>\n",
       "      <th>1</th>\n",
       "      <td>eu morrendo de calor e o uber geladinho tudo q...</td>\n",
       "      <td>Irrelevante</td>\n",
       "    </tr>\n",
       "    <tr>\n",
       "      <th>2</th>\n",
       "      <td>to lembrando aqui do dia em que a mairine e a ...</td>\n",
       "      <td>Irrelevante</td>\n",
       "    </tr>\n",
       "    <tr>\n",
       "      <th>3</th>\n",
       "      <td>lucasp711 to cortando o cabelo  se ainda tive...</td>\n",
       "      <td>Irrelevante</td>\n",
       "    </tr>\n",
       "    <tr>\n",
       "      <th>4</th>\n",
       "      <td>rt  jungsbloomie  acabei o dinheiro da semana ...</td>\n",
       "      <td>Irrelevante</td>\n",
       "    </tr>\n",
       "  </tbody>\n",
       "</table>\n",
       "</div>"
      ],
      "text/plain": [
       "                                         Treinamento       Classe\n",
       "0  pior coisa é ouvir de gente privilegiada que a...  Irrelevante\n",
       "1  eu morrendo de calor e o uber geladinho tudo q...  Irrelevante\n",
       "2  to lembrando aqui do dia em que a mairine e a ...  Irrelevante\n",
       "3   lucasp711 to cortando o cabelo  se ainda tive...  Irrelevante\n",
       "4  rt  jungsbloomie  acabei o dinheiro da semana ...  Irrelevante"
      ]
     },
     "execution_count": 368,
     "metadata": {},
     "output_type": "execute_result"
    }
   ],
   "source": [
    "dados.head()"
   ]
  },
  {
   "cell_type": "code",
   "execution_count": 362,
   "metadata": {},
   "outputs": [],
   "source": [
    "dados_irr = dados.loc[dados.Classe == 'Irrelevante', :]\n",
    "dados_irr = dados_irr.loc[:130, :]"
   ]
  },
  {
   "cell_type": "code",
   "execution_count": 370,
   "metadata": {},
   "outputs": [],
   "source": [
    "dados_r = dados.loc[dados.Classe == 'Relevante', :]"
   ]
  },
  {
   "cell_type": "code",
   "execution_count": 371,
   "metadata": {},
   "outputs": [],
   "source": [
    "for i in range(len(dados_r.index.values)):\n",
    "    dados_r.index.values[i] = i \n"
   ]
  },
  {
   "cell_type": "code",
   "execution_count": 375,
   "metadata": {},
   "outputs": [],
   "source": [
    "for i in range(len(dados_irr.index.values)):\n",
    "    dados_irr.index.values[i] = i "
   ]
  },
  {
   "cell_type": "code",
   "execution_count": 381,
   "metadata": {},
   "outputs": [
    {
     "data": {
      "text/plain": [
       "['rt', 'leandra_bdz', 'meninas', 'um', 'uber']"
      ]
     },
     "execution_count": 381,
     "metadata": {},
     "output_type": "execute_result"
    }
   ],
   "source": [
    "todas_palavras_irrelevante = []\n",
    "for i in range(len(dados_irr.Treinamento)):\n",
    "    todas_palavras_irrelevante.append(dados_irr['Treinamento'][i].split())\n",
    "todas_palavras_r[:5]"
   ]
  },
  {
   "cell_type": "code",
   "execution_count": 380,
   "metadata": {},
   "outputs": [
    {
     "data": {
      "text/plain": [
       "['pior', 'coisa', 'é', 'ouvir', 'de']"
      ]
     },
     "execution_count": 380,
     "metadata": {},
     "output_type": "execute_result"
    }
   ],
   "source": [
    "todas_palavras_irr = []\n",
    "for i in range(len(todas_palavras_irrelevante)):\n",
    "    for j in range(len(todas_palavras_irrelevante[i])):\n",
    "        todas_palavras_irr.append(todas_palavras_irrelevante[i][j])\n",
    "todas_palavras_irr[:5]"
   ]
  },
  {
   "cell_type": "code",
   "execution_count": 385,
   "metadata": {},
   "outputs": [
    {
     "data": {
      "text/plain": [
       "0     pior\n",
       "1    coisa\n",
       "2        é\n",
       "3    ouvir\n",
       "4       de\n",
       "dtype: object"
      ]
     },
     "execution_count": 385,
     "metadata": {},
     "output_type": "execute_result"
    }
   ],
   "source": [
    "serie_Irr = pd.Series(todas_palavras_irr)\n",
    "serie_Irr.head()"
   ]
  },
  {
   "cell_type": "code",
   "execution_count": 386,
   "metadata": {},
   "outputs": [],
   "source": [
    "todas_palavras_relevante = []\n",
    "for i in range(len(dados_r.Treinamento)):\n",
    "    todas_palavras_relevante.append(dados_r['Treinamento'][i].split())"
   ]
  },
  {
   "cell_type": "code",
   "execution_count": 387,
   "metadata": {},
   "outputs": [
    {
     "data": {
      "text/plain": [
       "['rt', 'leandra_bdz', 'meninas', 'um', 'uber']"
      ]
     },
     "execution_count": 387,
     "metadata": {},
     "output_type": "execute_result"
    }
   ],
   "source": [
    "todas_palavras_r = []\n",
    "for i in range(len(todas_palavras_relevante)):\n",
    "    for j in range(len(todas_palavras_relevante[i])):\n",
    "        todas_palavras_r.append(todas_palavras_relevante[i][j])\n",
    "todas_palavras_r[:5]"
   ]
  },
  {
   "cell_type": "code",
   "execution_count": 388,
   "metadata": {},
   "outputs": [
    {
     "data": {
      "text/plain": [
       "0             rt\n",
       "1    leandra_bdz\n",
       "2        meninas\n",
       "3             um\n",
       "4           uber\n",
       "dtype: object"
      ]
     },
     "execution_count": 388,
     "metadata": {},
     "output_type": "execute_result"
    }
   ],
   "source": [
    "serie_r = pd.Series(todas_palavras_r)\n",
    "serie_r.head()"
   ]
  },
  {
   "cell_type": "code",
   "execution_count": 389,
   "metadata": {},
   "outputs": [
    {
     "data": {
      "text/plain": [
       "uber    84\n",
       "de      61\n",
       "e       51\n",
       "que     42\n",
       "o       41\n",
       "dtype: int64"
      ]
     },
     "execution_count": 389,
     "metadata": {},
     "output_type": "execute_result"
    }
   ],
   "source": [
    "tabela_r = serie_r.value_counts()\n",
    "tabela_r.head()"
   ]
  },
  {
   "cell_type": "code",
   "execution_count": 390,
   "metadata": {},
   "outputs": [
    {
     "data": {
      "text/plain": [
       "uber    85\n",
       "o       52\n",
       "de      44\n",
       "e       42\n",
       "que     36\n",
       "dtype: int64"
      ]
     },
     "execution_count": 390,
     "metadata": {},
     "output_type": "execute_result"
    }
   ],
   "source": [
    "tabela_irr = serie_Irr.value_counts()\n",
    "tabela_irr.head()"
   ]
  },
  {
   "cell_type": "code",
   "execution_count": 391,
   "metadata": {},
   "outputs": [
    {
     "data": {
      "text/plain": [
       "uber    4.73\n",
       "de      3.43\n",
       "e       2.87\n",
       "que     2.36\n",
       "o       2.31\n",
       "dtype: float64"
      ]
     },
     "execution_count": 391,
     "metadata": {},
     "output_type": "execute_result"
    }
   ],
   "source": [
    "tabela_relativa_r = (serie_r.value_counts(True)*100).round(2)\n",
    "tabela_relativa_r.head()"
   ]
  },
  {
   "cell_type": "code",
   "execution_count": 392,
   "metadata": {},
   "outputs": [
    {
     "data": {
      "text/plain": [
       "uber    4.96\n",
       "o       3.03\n",
       "de      2.57\n",
       "e       2.45\n",
       "que     2.10\n",
       "dtype: float64"
      ]
     },
     "execution_count": 392,
     "metadata": {},
     "output_type": "execute_result"
    }
   ],
   "source": [
    "tabela_relativa_irr = (serie_Irr.value_counts(True)*100).round(2)\n",
    "tabela_relativa_irr.head()"
   ]
  },
  {
   "cell_type": "code",
   "execution_count": 393,
   "metadata": {},
   "outputs": [],
   "source": [
    "todas_palavras_v1 = []\n",
    "for i in range(len(dados.index.values)):\n",
    "    todas_palavras_v1.append(dados.Treinamento[i].split())"
   ]
  },
  {
   "cell_type": "code",
   "execution_count": 394,
   "metadata": {},
   "outputs": [
    {
     "data": {
      "text/plain": [
       "['pior', 'coisa', 'é', 'ouvir', 'de']"
      ]
     },
     "execution_count": 394,
     "metadata": {},
     "output_type": "execute_result"
    }
   ],
   "source": [
    "todas_palavras = []\n",
    "for i in range(len(todas_palavras_v1)):\n",
    "    for j in range(len(todas_palavras_v1[i])):\n",
    "        todas_palavras.append(todas_palavras_v1[i][j])\n",
    "todas_palavras[:5]"
   ]
  },
  {
   "cell_type": "code",
   "execution_count": 395,
   "metadata": {},
   "outputs": [
    {
     "data": {
      "text/plain": [
       "0     pior\n",
       "1    coisa\n",
       "2        é\n",
       "3    ouvir\n",
       "4       de\n",
       "dtype: object"
      ]
     },
     "execution_count": 395,
     "metadata": {},
     "output_type": "execute_result"
    }
   ],
   "source": [
    "serie_todas = pd.Series(todas_palavras)\n",
    "serie_todas.head()"
   ]
  },
  {
   "cell_type": "code",
   "execution_count": 396,
   "metadata": {},
   "outputs": [
    {
     "data": {
      "text/plain": [
       "uber    285\n",
       "de      166\n",
       "o       159\n",
       "e       145\n",
       "que     107\n",
       "dtype: int64"
      ]
     },
     "execution_count": 396,
     "metadata": {},
     "output_type": "execute_result"
    }
   ],
   "source": [
    "tabela_todas = serie_todas.value_counts()\n",
    "tabela_todas.head()"
   ]
  },
  {
   "cell_type": "code",
   "execution_count": 397,
   "metadata": {},
   "outputs": [
    {
     "data": {
      "text/plain": [
       "uber    4.96\n",
       "de      2.89\n",
       "o       2.77\n",
       "e       2.53\n",
       "que     1.86\n",
       "dtype: float64"
      ]
     },
     "execution_count": 397,
     "metadata": {},
     "output_type": "execute_result"
    }
   ],
   "source": [
    "tabela_relativa_todas = (serie_todas.value_counts(True)*100).round(2)\n",
    "tabela_relativa_todas.head()"
   ]
  },
  {
   "cell_type": "code",
   "execution_count": 418,
   "metadata": {},
   "outputs": [],
   "source": [
    "def naive_bayes(frase, tabela_relativa_r, tabela_relativa_irr):\n",
    "    \n",
    "    frase = cleanup(frase.lower())\n",
    "    lista_palavras = frase.split()\n",
    "    \n",
    "    totalR = tabela_r.value_counts().sum()\n",
    "    totalIrr = tabela_irr.value_counts().sum()\n",
    "    total = totalR + totalIrr\n",
    "    probR = totalR/total\n",
    "    probIrr=totalIrr/total\n",
    "    \n",
    "    probFraseDadoR = 100\n",
    "    for i in lista_palavras:\n",
    "        if i in tabela_relativa_r:\n",
    "            probFraseDadoR *= tabela_relativa_r['{}'.format(i)]\n",
    "        else:\n",
    "            probFraseDadoR *= 0.005\n",
    "        \n",
    "    probFraseDadoIrr = 100\n",
    "    for i in lista_palavras:\n",
    "        if i in tabela_relativa_irr:\n",
    "             probFraseDadoIrr *= tabela_relativa_irr['{}'.format(i)]\n",
    "        else:\n",
    "            probFraseDadoIrr *= 0.005\n",
    "            \n",
    "    probRDadoFrase = probFraseDadoR*probR\n",
    "    probIrrDadoFrase = probFraseDadoIrr*probIrr\n",
    "    \n",
    "    if probRDadoFrase > probIrrDadoFrase:\n",
    "        return('Relevante')\n",
    "    else:\n",
    "        return('Irrelevante')\n",
    "    "
   ]
  },
  {
   "cell_type": "markdown",
   "metadata": {},
   "source": [
    "___\n",
    "### Verificando a performance do Classificador\n",
    "\n",
    "Agora você deve testar o seu classificador com a base de Testes."
   ]
  },
  {
   "cell_type": "code",
   "execution_count": 423,
   "metadata": {},
   "outputs": [
    {
     "data": {
      "text/plain": [
       "'Relevante'"
      ]
     },
     "execution_count": 423,
     "metadata": {},
     "output_type": "execute_result"
    }
   ],
   "source": [
    "naive_bayes('', tabela_relativa_r, tabela_relativa_irr)"
   ]
  },
  {
   "cell_type": "markdown",
   "metadata": {},
   "source": [
    "___\n",
    "### Concluindo"
   ]
  },
  {
   "cell_type": "code",
   "execution_count": null,
   "metadata": {},
   "outputs": [],
   "source": []
  },
  {
   "cell_type": "code",
   "execution_count": null,
   "metadata": {},
   "outputs": [],
   "source": []
  },
  {
   "cell_type": "markdown",
   "metadata": {},
   "source": [
    "___\n",
    "## Aperfeiçoamento:\n",
    "\n",
    "Os trabalhos vão evoluir em conceito dependendo da quantidade de itens avançados:\n",
    "\n",
    "* Limpar: \\n, :, \", ', (, ), etc SEM remover emojis\n",
    "* Corrigir separação de espaços entre palavras e emojis ou entre emojis e emojis\n",
    "* Propor outras limpezas e transformações que não afetem a qualidade da informação ou classificação\n",
    "* Criar categorias intermediárias de relevância baseadas na probabilidade: ex.: muito relevante, relevante, neutro, irrelevante, muito irrelevante (3 categorias: C, mais categorias conta para B)\n",
    "* Explicar por que não posso usar o próprio classificador para gerar mais amostras de treinamento\n",
    "* Propor diferentes cenários para Naïve Bayes fora do contexto do projeto\n",
    "* Sugerir e explicar melhorias reais com indicações concretas de como implementar (indicar como fazer e indicar material de pesquisa)\n",
    "* Montar um dashboard que periodicamente realiza análise de sentimento e visualiza estes dados"
   ]
  },
  {
   "cell_type": "markdown",
   "metadata": {},
   "source": [
    "___\n",
    "## Referências"
   ]
  },
  {
   "cell_type": "markdown",
   "metadata": {},
   "source": [
    "[Naive Bayes and Text Classification](https://arxiv.org/pdf/1410.5329.pdf)  **Mais completo**\n",
    "\n",
    "[A practical explanation of a Naive Bayes Classifier](https://monkeylearn.com/blog/practical-explanation-naive-bayes-classifier/) **Mais simples**"
   ]
  },
  {
   "cell_type": "code",
   "execution_count": null,
   "metadata": {},
   "outputs": [],
   "source": []
  }
 ],
 "metadata": {
  "kernelspec": {
   "display_name": "Python 3",
   "language": "python",
   "name": "python3"
  },
  "language_info": {
   "codemirror_mode": {
    "name": "ipython",
    "version": 3
   },
   "file_extension": ".py",
   "mimetype": "text/x-python",
   "name": "python",
   "nbconvert_exporter": "python",
   "pygments_lexer": "ipython3",
   "version": "3.7.1"
  }
 },
 "nbformat": 4,
 "nbformat_minor": 4
}
